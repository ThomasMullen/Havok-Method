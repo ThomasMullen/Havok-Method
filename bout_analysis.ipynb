{
 "cells": [
  {
   "cell_type": "code",
   "execution_count": null,
   "metadata": {},
   "outputs": [],
   "source": []
  }
 ],
 "metadata": {
  "kernelspec": {
   "display_name": "venv",
   "language": "python",
   "name": "python3"
  },
  "language_info": {
   "name": "python",
   "version": "3.9.15"
  },
  "orig_nbformat": 4,
  "vscode": {
   "interpreter": {
    "hash": "a4c408a8adbf87b26f960243c11e2801186a53aeb0b5483b7c3701c8d21bc153"
   }
  }
 },
 "nbformat": 4,
 "nbformat_minor": 2
}
